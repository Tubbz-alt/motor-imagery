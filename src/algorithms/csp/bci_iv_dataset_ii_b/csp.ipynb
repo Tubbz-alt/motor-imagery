{
 "cells": [
  {
   "cell_type": "code",
   "execution_count": 11,
   "outputs": [],
   "source": [
    "from src.data_preparation.data_preparation import read_eeg_file\n",
    "from scipy import signal\n",
    "from scipy import linalg\n",
    "import pyriemann.utils.mean as rie_mean\n",
    "from sklearn.svm import SVC\n",
    "from sklearn.discriminant_analysis import LinearDiscriminantAnalysis\n",
    "from sklearn.metrics import accuracy_score\n",
    "import numpy as np"
   ],
   "metadata": {
    "collapsed": false,
    "pycharm": {
     "name": "#%%\n",
     "is_executing": false
    }
   }
  },
  {
   "cell_type": "markdown",
   "source": [
    "Define the constants with parameters to apply the algorithm"
   ],
   "metadata": {
    "collapsed": false
   }
  },
  {
   "cell_type": "code",
   "execution_count": 12,
   "outputs": [],
   "source": [
    "FS = 250\n",
    "TIME_LENGTH = 2 * FS\n",
    "TIME_WINDOW = 2 * FS\n",
    "EPOCH_SIZE = None\n",
    "DATA_FOLDER = \"data/csp/bci-iv-dataset-ii-b\"\n",
    "CSP_COMPONENTS = 2"
   ],
   "metadata": {
    "collapsed": false,
    "pycharm": {
     "name": "#%%\n",
     "is_executing": false
    }
   }
  },
  {
   "cell_type": "markdown",
   "source": [
    "Define the objects to store the evaluation data "
   ],
   "metadata": {
    "collapsed": false
   }
  },
  {
   "cell_type": "code",
   "execution_count": 13,
   "outputs": [],
   "source": [
    "subjects = range(1, 10)\n",
    "accuracies = {\n",
    "    \"SVM\": np.zeros(len(subjects)),\n",
    "    \"LDA\": np.zeros(len(subjects))\n",
    "}"
   ],
   "metadata": {
    "collapsed": false,
    "pycharm": {
     "name": "#%%\n",
     "is_executing": false
    }
   }
  },
  {
   "cell_type": "markdown",
   "source": [
    "Define the bandpass filter to be used in the pre-processing step"
   ],
   "metadata": {
    "collapsed": false,
    "pycharm": {
     "name": "#%% md\n"
    }
   }
  },
  {
   "cell_type": "code",
   "execution_count": 14,
   "outputs": [],
   "source": [
    "sos = signal.butter(5, [8, 30], analog=False, btype=\"band\", output=\"sos\", fs=FS)"
   ],
   "metadata": {
    "collapsed": false,
    "pycharm": {
     "name": "#%%\n",
     "is_executing": false
    }
   }
  },
  {
   "cell_type": "markdown",
   "source": [
    "Load the EEG data"
   ],
   "metadata": {
    "collapsed": false
   }
  },
  {
   "cell_type": "code",
   "execution_count": 15,
   "outputs": [],
   "source": [
    "data = dict()\n",
    "data[\"train\"] = []\n",
    "data[\"test\"] = []\n",
    "for subject in subjects:\n",
    "    left_data_file = f\"{DATA_FOLDER}/left-hand-train-subject-{subject}.csv\"\n",
    "    right_data_file = f\"{DATA_FOLDER}/right-hand-train-subject-{subject}.csv\"\n",
    "    data[\"train\"].append(read_eeg_file(left_data_file, right_data_file, TIME_LENGTH, TIME_WINDOW, EPOCH_SIZE))\n",
    "    \n",
    "    left_data_file = f\"{DATA_FOLDER}/left-hand-test-subject-{subject}.csv\"\n",
    "    right_data_file = f\"{DATA_FOLDER}/right-hand-test-subject-{subject}.csv\"\n",
    "    data[\"test\"].append(read_eeg_file(left_data_file, right_data_file, TIME_LENGTH, TIME_WINDOW, EPOCH_SIZE))"
   ],
   "metadata": {
    "collapsed": false,
    "pycharm": {
     "name": "#%%\n",
     "is_executing": false
    }
   }
  },
  {
   "cell_type": "markdown",
   "source": [
    "Define the function to generate the common spatial filter's based on the test data "
   ],
   "metadata": {
    "collapsed": false
   }
  },
  {
   "cell_type": "code",
   "execution_count": 17,
   "outputs": [],
   "source": [
    "def compute_spatial_filters(train_data):\n",
    "    cov_shape = (train_data.n_channels, train_data.n_channels)\n",
    "    \n",
    "    # Estimate the covariance matrix of every trial\n",
    "    cov = np.zeros((train_data.n_left_trials, *cov_shape))\n",
    "    for n_trial in range(train_data.n_left_trials):\n",
    "        trial_filtered = signal.sosfilt(sos, train_data.left_data[n_trial], axis=0)\n",
    "        cov[n_trial,:,:] = np.cov(np.transpose(trial_filtered))\n",
    "\n",
    "    # calculate average of covariance matrix\n",
    "    cov_1 = rie_mean.mean_covariance(cov, metric=\"riemann\")\n",
    "    \n",
    "    # Estimate the covariance matrix of every trial\n",
    "    cov = np.zeros((train_data.n_right_trials, *cov_shape))\n",
    "    for n_trial in range(train_data.n_right_trials):\n",
    "        trial_filtered = signal.sosfilt(sos, train_data.right_data[n_trial], axis=0)\n",
    "        cov[n_trial,:,:] = np.cov(np.transpose(trial_filtered))\n",
    "        \n",
    "    # calculate average of covariance matrix\n",
    "    cov_2 = rie_mean.mean_covariance(cov, metric=\"riemann\")\n",
    "    \n",
    "    # Solve the generalized eigenvalue problem\n",
    "    n_pairs = CSP_COMPONENTS//2\n",
    "    w, vr = linalg.eig(cov_1, cov_2, right=True)\n",
    "    w = np.abs(w)\n",
    "    sorted_indexes = np.argsort(w)\n",
    "    chosen_indexes = np.zeros(2*n_pairs).astype(int)\n",
    "    chosen_indexes[0:n_pairs] = sorted_indexes[0:n_pairs]\n",
    "    chosen_indexes[n_pairs:2*n_pairs] = sorted_indexes[-n_pairs:]\n",
    "\n",
    "    return vr[:, chosen_indexes]"
   ],
   "metadata": {
    "collapsed": false,
    "pycharm": {
     "name": "#%%\n",
     "is_executing": false
    }
   }
  },
  {
   "cell_type": "markdown",
   "source": [
    "Define the function to apply the spatial filter and extract the features "
   ],
   "metadata": {
    "collapsed": false
   }
  },
  {
   "cell_type": "code",
   "execution_count": 18,
   "outputs": [],
   "source": [
    "def extract_features(X, W):\n",
    "    trials = len(X)\n",
    "    F = np.zeros((trials, CSP_COMPONENTS))\n",
    "    for n_trial in range(trials):\n",
    "        trial = X[n_trial]\n",
    "        Z = np.dot(np.transpose(W), np.transpose(trial))\n",
    "        Z = signal.sosfilt(sos, Z, axis=1)\n",
    "        F[n_trial] = np.log(np.divide(np.var(Z, axis=1), np.sum(np.var(Z, axis=1))))\n",
    "        \n",
    "    return F"
   ],
   "metadata": {
    "collapsed": false,
    "pycharm": {
     "name": "#%%\n",
     "is_executing": false
    }
   }
  },
  {
   "cell_type": "markdown",
   "source": [
    "Iterate on the subjects, training the model using the 3 training sessions \n",
    "and evaluating the model using the 2 evaluation sessions"
   ],
   "metadata": {
    "collapsed": false
   }
  },
  {
   "cell_type": "code",
   "execution_count": 19,
   "outputs": [
    {
     "name": "stdout",
     "text": [
      "Subject 1 ...\n",
      "Subject 2 ...\n",
      "Subject 3 ...\n",
      "Subject 4 ...\n",
      "Subject 5 ...\n",
      "Subject 6 ...\n",
      "Subject 7 ...\n",
      "Subject 8 ...\n",
      "Subject 9 ...\n",
      "\n",
      "Accuracy\n",
      "SVM\n",
      "\tSubject 1 average accuracy: 0.6316\n",
      "\tSubject 2 average accuracy: 0.5918\n",
      "\tSubject 3 average accuracy: 0.5130\n",
      "\tSubject 4 average accuracy: 0.9642\n",
      "\tSubject 5 average accuracy: 0.6960\n",
      "\tSubject 6 average accuracy: 0.8048\n",
      "\tSubject 7 average accuracy: 0.7974\n",
      "\tSubject 8 average accuracy: 0.9261\n",
      "\tSubject 9 average accuracy: 0.8245\n",
      "\tAverage accuracy: 0.7499\n",
      "LDA\n",
      "\tSubject 1 average accuracy: 0.6316\n",
      "\tSubject 2 average accuracy: 0.6000\n",
      "\tSubject 3 average accuracy: 0.5522\n",
      "\tSubject 4 average accuracy: 0.9446\n",
      "\tSubject 5 average accuracy: 0.6813\n",
      "\tSubject 6 average accuracy: 0.7849\n",
      "\tSubject 7 average accuracy: 0.7845\n",
      "\tSubject 8 average accuracy: 0.9348\n",
      "\tSubject 9 average accuracy: 0.8000\n",
      "\tAverage accuracy: 0.7460\n"
     ],
     "output_type": "stream"
    }
   ],
   "source": [
    "for subject in subjects:\n",
    "    print(f\"Subject {subject} ...\")\n",
    "    subject_index = subject - 1\n",
    "    train_data = data[\"train\"][subject_index]\n",
    "    test_data = data[\"test\"][subject_index]\n",
    "\n",
    "    W = compute_spatial_filters(train_data)\n",
    "    \n",
    "    features = dict({\n",
    "        \"train\": extract_features(train_data.X, W),\n",
    "        \"test\": extract_features(test_data.X, W)\n",
    "    })\n",
    "    \n",
    "    # SVM classifier\n",
    "    svm = SVC(C=.8, kernel=\"rbf\", gamma=\"scale\")\n",
    "    svm.fit(features[\"train\"], train_data.labels)\n",
    "    svm_predictions = svm.predict(features[\"test\"])\n",
    "    accuracies[\"SVM\"][subject_index] = accuracy_score(test_data.labels, svm_predictions)\n",
    "    \n",
    "    # LDA classifier\n",
    "    lda = LinearDiscriminantAnalysis()\n",
    "    lda.fit(features[\"train\"], train_data.labels)\n",
    "    lda_predictions = lda.predict(features[\"test\"])\n",
    "    accuracies[\"LDA\"][subject_index] = accuracy_score(test_data.labels, lda_predictions)\n",
    "    \n",
    "print(\"\\nAccuracy\")\n",
    "for classifier in accuracies:\n",
    "    print(classifier)\n",
    "    for subject, cv_accuracies in enumerate(accuracies[classifier]):\n",
    "        acc_mean = np.mean(cv_accuracies)\n",
    "        print(f\"\\tSubject {subject+1} average accuracy: {acc_mean:.4f}\")\n",
    "    average_acc_mean = np.mean(accuracies[classifier])\n",
    "    print(f\"\\tAverage accuracy: {average_acc_mean:.4f}\")\n",
    "    "
   ],
   "metadata": {
    "collapsed": false,
    "pycharm": {
     "name": "#%%\n",
     "is_executing": false
    }
   }
  }
 ],
 "metadata": {
  "kernelspec": {
   "display_name": "Python 3",
   "language": "python",
   "name": "python3"
  },
  "language_info": {
   "codemirror_mode": {
    "name": "ipython",
    "version": 2
   },
   "file_extension": ".py",
   "mimetype": "text/x-python",
   "name": "python",
   "nbconvert_exporter": "python",
   "pygments_lexer": "ipython2",
   "version": "2.7.6"
  },
  "pycharm": {
   "stem_cell": {
    "cell_type": "raw",
    "source": [],
    "metadata": {
     "collapsed": false
    }
   }
  }
 },
 "nbformat": 4,
 "nbformat_minor": 0
}