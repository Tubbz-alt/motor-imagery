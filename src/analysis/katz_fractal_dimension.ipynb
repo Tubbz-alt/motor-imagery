{
 "cells": [
  {
   "cell_type": "code",
   "execution_count": 1,
   "metadata": {
    "collapsed": true,
    "pycharm": {
     "is_executing": false
    }
   },
   "outputs": [
    {
     "name": "stderr",
     "text": [
      "/home/mauricio/development/environments/anaconda3/envs/motor-imagery/lib/python3.7/site-packages/sklearn/externals/joblib/__init__.py:15: DeprecationWarning: sklearn.externals.joblib is deprecated in 0.21 and will be removed in 0.23. Please import this functionality directly from joblib, which can be installed with: pip install joblib. If this warning is raised when loading pickled models, you may need to re-serialize those models with scikit-learn 0.21+.\n",
      "  warnings.warn(msg, category=DeprecationWarning)\n"
     ],
     "output_type": "stream"
    }
   ],
   "source": [
    "from src.data_preparation.data_preparation import read_eeg_file\n",
    "from scipy import signal\n",
    "from scipy import linalg\n",
    "import pyriemann.utils.mean as rie_mean\n",
    "import numpy as np\n",
    "import matplotlib.pyplot as plt"
   ]
  },
  {
   "cell_type": "markdown",
   "source": [
    "Load some EEG data"
   ],
   "metadata": {
    "collapsed": false,
    "pycharm": {
     "name": "#%% md\n"
    }
   }
  },
  {
   "cell_type": "code",
   "execution_count": 2,
   "outputs": [],
   "source": [
    "FS = 100\n",
    "TIME_LENGTH = int(FS * 2.5)\n",
    "TIME_WINDOW = int(FS * 2.5)\n",
    "DATA_FOLDER = \"data/si-bci/bci-iii-dataset-iv-a\"\n",
    "CSP_COMPONENTS = 8\n",
    "\n",
    "subject = 1\n",
    "left_data_file = f\"{DATA_FOLDER}/left-hand-subject-{subject}.csv\"\n",
    "right_data_file = f\"{DATA_FOLDER}/right-hand-subject-{subject}.csv\"\n",
    "data = read_eeg_file(left_data_file, right_data_file, TIME_LENGTH, TIME_WINDOW)"
   ],
   "metadata": {
    "collapsed": false,
    "pycharm": {
     "name": "#%%\n",
     "is_executing": false
    }
   }
  },
  {
   "cell_type": "markdown",
   "source": [
    "Filter the data with a fifth order Butterworth bandpass filter"
   ],
   "metadata": {
    "collapsed": false,
    "pycharm": {
     "name": "#%% md\n"
    }
   }
  },
  {
   "cell_type": "code",
   "execution_count": 3,
   "outputs": [],
   "source": [
    "sos = signal.butter(5, [8, 30], analog=False, btype=\"band\", output=\"sos\", fs=FS)\n",
    "\n",
    "data.left_data = signal.sosfilt(sos, data.left_data, axis=1)\n",
    "data.right_data = signal.sosfilt(sos, data.right_data, axis=1)\n"
   ],
   "metadata": {
    "collapsed": false,
    "pycharm": {
     "name": "#%%\n",
     "is_executing": false
    }
   }
  },
  {
   "cell_type": "markdown",
   "source": [
    "Spatially filter the data using the CSP algorithm "
   ],
   "metadata": {
    "collapsed": false
   }
  },
  {
   "cell_type": "code",
   "execution_count": 4,
   "outputs": [],
   "source": [
    "cov_shape = (data.n_channels, data.n_channels)\n",
    "\n",
    "# Estimate the covariance matrix of every trial\n",
    "cov = np.zeros((data.n_left_trials, *cov_shape))\n",
    "for n_trial in range(data.n_left_trials):\n",
    "    trial = data.left_data[n_trial]\n",
    "    cov[n_trial] = np.cov(np.transpose(trial))\n",
    "\n",
    "# calculate average of covariance matrix\n",
    "cov_1 = rie_mean.mean_covariance(cov, metric=\"riemann\")\n",
    "\n",
    "# Estimate the covariance matrix of every trial\n",
    "cov = np.zeros((data.n_right_trials, *cov_shape))\n",
    "for n_trial in range(data.n_right_trials):\n",
    "    trial = data.right_data[n_trial]\n",
    "    cov[n_trial] = np.cov(np.transpose(trial))\n",
    "\n",
    "# calculate average of covariance matrix\n",
    "cov_2 = rie_mean.mean_covariance(cov, metric=\"riemann\")\n",
    "\n",
    "# Solve the generalized eigenvalue problem\n",
    "n_pairs = CSP_COMPONENTS // 2\n",
    "w, vr = linalg.eig(cov_1, cov_2, right=True)\n",
    "w = np.abs(w)\n",
    "sorted_indexes = np.argsort(w)\n",
    "chosen_indexes = np.zeros(2 * n_pairs).astype(int)\n",
    "chosen_indexes[0:n_pairs] = sorted_indexes[0:n_pairs]\n",
    "chosen_indexes[n_pairs:2 * n_pairs] = sorted_indexes[-n_pairs:]\n",
    "\n",
    "W = vr[:, chosen_indexes]\n",
    "\n",
    "data.Z = np.zeros((data.n_trials, CSP_COMPONENTS, data.X.shape[1]))\n",
    "for n_trial in range(data.n_trials):\n",
    "    x = data.X[n_trial]\n",
    "    data.Z[n_trial] = np.dot(np.transpose(W), np.transpose(x))"
   ],
   "metadata": {
    "collapsed": false,
    "pycharm": {
     "name": "#%%\n",
     "is_executing": false
    }
   }
  },
  {
   "cell_type": "markdown",
   "source": [
    "Generate an array with the Katz Fractal Dimension feature \n",
    "      "
   ],
   "metadata": {
    "collapsed": false
   }
  },
  {
   "cell_type": "code",
   "execution_count": 30,
   "outputs": [],
   "source": [
    "KFD = np.zeros((data.n_trials, CSP_COMPONENTS))\n",
    "for n_trial in range(data.n_trials):\n",
    "    for n_component in range(CSP_COMPONENTS):\n",
    "        z = data.Z[n_trial, n_component]\n",
    "        z = signal.sosfilt(sos, z)\n",
    "        \n",
    "        N = len(z) - 1\n",
    "        \n",
    "        # 1. line-length\n",
    "        L = np.zeros(N)\n",
    "        for n in range(N):\n",
    "            # Use the Euclidean distance formula to obtain the distance between the consecutive points\n",
    "            x_distance = 1\n",
    "            y_distance = (z[n]-z[n+1])**2\n",
    "            L[n] = np.sqrt(x_distance + y_distance)\n",
    "        L = np.sum(L)\n",
    "        \n",
    "        # 2. maximum distance:\n",
    "        d = np.zeros(N)\n",
    "        for n in range(N):\n",
    "            # Use the Euclidean distance formula to obtain the distance between the points to the origin\n",
    "            x_distance = n**2\n",
    "            y_distance = (z[0]-z[n+1])**2\n",
    "            d[n] = np.sqrt(x_distance + y_distance)\n",
    "        d = np.max(d)\n",
    "\n",
    "        ln = np.log10(N)\n",
    "        KFD[n_trial, n_component] = ln / (np.log10(d/L) + ln)"
   ],
   "metadata": {
    "collapsed": false,
    "pycharm": {
     "name": "#%%\n",
     "is_executing": false
    }
   }
  },
  {
   "cell_type": "markdown",
   "source": [
    "Generate a box plot to visualize the distribution of the Katz Fractal Dimension feature "
   ],
   "metadata": {
    "collapsed": false
   }
  },
  {
   "cell_type": "code",
   "execution_count": 31,
   "outputs": [
    {
     "data": {
      "text/plain": "<Figure size 432x288 with 1 Axes>",
      "image/png": "[encoded data removed]"
     },
     "metadata": {
      "needs_background": "light"
     },
     "output_type": "display_data"
    }
   ],
   "source": [
    "fig, ax = plt.subplots()\n",
    "ax.boxplot(KFD);\n"
   ],
   "metadata": {
    "collapsed": false,
    "pycharm": {
     "name": "#%%\n",
     "is_executing": false
    }
   }
  }
 ],
 "metadata": {
  "kernelspec": {
   "display_name": "Python 3",
   "language": "python",
   "name": "python3"
  },
  "language_info": {
   "codemirror_mode": {
    "name": "ipython",
    "version": 2
   },
   "file_extension": ".py",
   "mimetype": "text/x-python",
   "name": "python",
   "nbconvert_exporter": "python",
   "pygments_lexer": "ipython2",
   "version": "2.7.6"
  },
  "pycharm": {
   "stem_cell": {
    "cell_type": "raw",
    "source": [],
    "metadata": {
     "collapsed": false
    }
   }
  }
 },
 "nbformat": 4,
 "nbformat_minor": 0
}