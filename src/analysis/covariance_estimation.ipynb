{
 "cells": [
  {
   "cell_type": "markdown",
   "metadata": {
    "collapsed": true,
    "pycharm": {
     "name": "#%% md\n"
    }
   },
   "source": [
    "Notebook to compare the execution time of the different \n",
    "metrics to use in covariance matrix estimation"
   ]
  },
  {
   "cell_type": "code",
   "execution_count": 1,
   "outputs": [
    {
     "name": "stderr",
     "text": [
      "/home/mauricio/development/environments/anaconda3/envs/motor-imagery/lib/python3.7/site-packages/sklearn/externals/joblib/__init__.py:15: DeprecationWarning: sklearn.externals.joblib is deprecated in 0.21 and will be removed in 0.23. Please import this functionality directly from joblib, which can be installed with: pip install joblib. If this warning is raised when loading pickled models, you may need to re-serialize those models with scikit-learn 0.21+.\n",
      "  warnings.warn(msg, category=DeprecationWarning)\n"
     ],
     "output_type": "stream"
    }
   ],
   "source": [
    "from src.data_preparation.data_preparation import read_eeg_file\n",
    "from scipy import signal\n",
    "import pyriemann.utils.mean as rie_mean\n",
    "import numpy as np\n",
    "import time\n",
    "import matplotlib.pyplot as plt"
   ],
   "metadata": {
    "collapsed": false,
    "pycharm": {
     "name": "#%%\n",
     "is_executing": false
    }
   }
  },
  {
   "cell_type": "markdown",
   "source": [
    "Load some EEG data"
   ],
   "metadata": {
    "collapsed": false
   }
  },
  {
   "cell_type": "code",
   "execution_count": 2,
   "outputs": [],
   "source": [
    "FS = 100\n",
    "TIME_LENGTH = int(FS * 2.5)\n",
    "TIME_WINDOW = int(FS * 2.5)\n",
    "DATA_FOLDER = \"data/si-bci/bci-iii-dataset-iv-a\"\n",
    "CSP_COMPONENTS = 8\n",
    "\n",
    "subject = 1\n",
    "left_data_file = f\"{DATA_FOLDER}/left-hand-subject-{subject}.csv\"\n",
    "right_data_file = f\"{DATA_FOLDER}/right-hand-subject-{subject}.csv\"\n",
    "data = read_eeg_file(left_data_file, right_data_file, TIME_LENGTH, TIME_WINDOW)"
   ],
   "metadata": {
    "collapsed": false,
    "pycharm": {
     "name": "#%%\n",
     "is_executing": false
    }
   }
  },
  {
   "cell_type": "markdown",
   "source": [
    "Filter the data with a fifth order Butterworth bandpass filter"
   ],
   "metadata": {
    "collapsed": false
   }
  },
  {
   "cell_type": "code",
   "execution_count": 3,
   "outputs": [],
   "source": [
    "sos = signal.butter(5, [8, 30], analog=False, btype=\"band\", output=\"sos\", fs=FS)\n",
    "\n",
    "data.left_data = signal.sosfilt(sos, data.left_data, axis=1)\n",
    "data.right_data = signal.sosfilt(sos, data.right_data, axis=1)\n"
   ],
   "metadata": {
    "collapsed": false,
    "pycharm": {
     "name": "#%%\n",
     "is_executing": false
    }
   }
  },
  {
   "cell_type": "markdown",
   "source": [
    "Define the function to estimate the covariance matrices"
   ],
   "metadata": {
    "collapsed": false
   }
  },
  {
   "cell_type": "code",
   "execution_count": 4,
   "outputs": [],
   "source": [
    "def estimate_covariance_matrices(metric):\n",
    "    cov_shape = (data.n_channels, data.n_channels)\n",
    "    \n",
    "    # Estimate the covariance matrix of every trial\n",
    "    cov = np.zeros((data.n_left_trials, *cov_shape))\n",
    "    for n_trial in range(data.n_left_trials):\n",
    "        trial = data.left_data[n_trial]\n",
    "        cov[n_trial] = np.cov(np.transpose(trial))\n",
    "    \n",
    "    # calculate average of covariance matrix\n",
    "    cov_1 = rie_mean.mean_covariance(cov, metric=metric)\n",
    "    \n",
    "    # Estimate the covariance matrix of every trial\n",
    "    cov = np.zeros((data.n_right_trials, *cov_shape))\n",
    "    for n_trial in range(data.n_right_trials):\n",
    "        trial = data.right_data[n_trial]\n",
    "        cov[n_trial] = np.cov(np.transpose(trial))\n",
    "    \n",
    "    # calculate average of covariance matrix\n",
    "    cov_2 = rie_mean.mean_covariance(cov, metric=metric)\n",
    "\n",
    "    return cov_1, cov_2"
   ],
   "metadata": {
    "collapsed": false,
    "pycharm": {
     "name": "#%%\n",
     "is_executing": false
    }
   }
  },
  {
   "cell_type": "markdown",
   "source": [
    "Store the execution time for multiple metrics "
   ],
   "metadata": {
    "collapsed": false
   }
  },
  {
   "cell_type": "code",
   "execution_count": 11,
   "outputs": [
    {
     "name": "stdout",
     "text": [
      "Metric riemann lasted 7.970139265060425 seconds.\n",
      "Metric euclid lasted 0.06645774841308594 seconds.\n",
      "Metric logeuclid lasted 0.529228925704956 seconds.\n"
     ],
     "output_type": "stream"
    }
   ],
   "source": [
    "metrics = [\"riemann\", \"euclid\", \"logeuclid\"]\n",
    "time_execution = []\n",
    "for metric in metrics:\n",
    "    start_time = time.time()\n",
    "    estimate_covariance_matrices(metric)\n",
    "    current_time_execution = time.time() - start_time\n",
    "    time_execution.append(current_time_execution)\n",
    "    print(f\"Metric {metric} lasted {current_time_execution} seconds.\")"
   ],
   "metadata": {
    "collapsed": false,
    "pycharm": {
     "name": "#%%\n",
     "is_executing": false
    }
   }
  },
  {
   "cell_type": "markdown",
   "source": [
    "Generate a bar plot to visualize the execution time for each metric "
   ],
   "metadata": {
    "collapsed": false
   }
  },
  {
   "cell_type": "code",
   "execution_count": 16,
   "outputs": [
    {
     "data": {
      "text/plain": "<Figure size 432x288 with 1 Axes>",
      "image/png": "[encoded data removed]"
     },
     "metadata": {
      "needs_background": "light"
     },
     "output_type": "display_data"
    }
   ],
   "source": [
    "x = np.arange(len(metrics))\n",
    " \n",
    "plt.bar(x, time_execution)\n",
    "plt.xticks(x, metrics)\n",
    "plt.xlabel(\"Metric\")\n",
    "plt.ylabel(\"Time Execution (seconds)\")\n",
    "plt.show()\n"
   ],
   "metadata": {
    "collapsed": false,
    "pycharm": {
     "name": "#%%\n",
     "is_executing": false
    }
   }
  },
  {
   "cell_type": "markdown",
   "source": [
    "The results show that the euclid metric is the fastest,\n",
    "followed by the logeuclid metric,\n",
    "and the riemann metric is much slow."
   ],
   "metadata": {
    "collapsed": false,
    "pycharm": {
     "name": "#%% md\n"
    }
   }
  }
 ],
 "metadata": {
  "kernelspec": {
   "display_name": "Python 3",
   "language": "python",
   "name": "python3"
  },
  "language_info": {
   "codemirror_mode": {
    "name": "ipython",
    "version": 2
   },
   "file_extension": ".py",
   "mimetype": "text/x-python",
   "name": "python",
   "nbconvert_exporter": "python",
   "pygments_lexer": "ipython2",
   "version": "2.7.6"
  },
  "pycharm": {
   "stem_cell": {
    "cell_type": "raw",
    "source": [],
    "metadata": {
     "collapsed": false
    }
   }
  }
 },
 "nbformat": 4,
 "nbformat_minor": 0
}